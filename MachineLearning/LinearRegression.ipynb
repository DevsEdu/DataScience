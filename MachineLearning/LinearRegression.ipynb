{
 "cells": [
  {
   "cell_type": "markdown",
   "metadata": {},
   "source": [
    "# Criando e executando o modelo de Regressão Linear usando tensorflow 2. com dados fictícios."
   ]
  },
  {
   "cell_type": "code",
   "execution_count": 2,
   "metadata": {},
   "outputs": [],
   "source": [
    "#Importação de bibliotecas\n",
    "import tensorflow as tf\n",
    "import numpy as np\n",
    "import matplotlib.pyplot as plt\n",
    "%matplotlib inline"
   ]
  },
  {
   "cell_type": "code",
   "execution_count": 3,
   "metadata": {},
   "outputs": [],
   "source": [
    "#Hyperparâmetros do modelo\n",
    "learning_rate = 0.01\n",
    "training_epochs = 2000\n",
    "display_step = 200"
   ]
  },
  {
   "cell_type": "code",
   "execution_count": 9,
   "metadata": {},
   "outputs": [],
   "source": [
    "# Dataset de treino\n",
    "train_X = np.asarray([3.3,4.4,5.5,6.71,6.93,4.168,9.779,6.182,7.59,2.167,7.042,10.791,5.313,7.997,5.654,9.27,3.1])\n",
    "train_Y = np.asarray([1.7,2.76,2.09,3.19,1.694,1.573,3.366,2.596,2.53,1.221,2.827,3.465,1.65,2.904,2.42,2.94,1.3])\n",
    "n_samples = train_X.shape[0]\n",
    " \n",
    "# Dataset de teste\n",
    "test_X = np.asarray([6.83, 4.668, 8.9, 7.91, 5.7, 8.7, 3.1, 2.1])\n",
    "test_Y = np.asarray([1.84, 2.273, 3.2, 2.831, 2.92, 3.24, 1.35, 1.03])"
   ]
  },
  {
   "cell_type": "code",
   "execution_count": 10,
   "metadata": {},
   "outputs": [],
   "source": [
    "#Placeholders para as variáveis preditoras(x) e para variável target(y)\n",
    "\n",
    "x = tf.placeholder(tf.float32)\n",
    "y = tf.placeholder(tf.float32)\n",
    "\n",
    "#Pesos e bias do modelo\n",
    "\n",
    "w = tf.Variable(np.random.randn(), name=\"weigth\")\n",
    "b = tf.Variable(np.random.randn(), name=\"bias\")"
   ]
  },
  {
   "cell_type": "code",
   "execution_count": 11,
   "metadata": {},
   "outputs": [],
   "source": [
    "#Construindo o modelo : y = w*X + b\n",
    "\n",
    "linear_model = w*x + b\n",
    "\n",
    "# Mean squared error (erro quadrado médio)\n",
    "cost = tf.reduce_sum(tf.square(linear_model - y)) / (2*n_samples)\n",
    " \n",
    "# Otimização com Gradient descent\n",
    "optimizer = tf.train.GradientDescentOptimizer(learning_rate).minimize(cost)"
   ]
  },
  {
   "cell_type": "code",
   "execution_count": 16,
   "metadata": {},
   "outputs": [
    {
     "name": "stdout",
     "output_type": "stream",
     "text": [
      "Epoch:   200 \t Custo (Erro):     0.101 \t W:0.1638 \t b: 1.422\n",
      "Epoch:   400 \t Custo (Erro):   0.09171 \t W:0.1827 \t b: 1.287\n",
      "Epoch:   600 \t Custo (Erro):   0.08602 \t W:0.1976 \t b: 1.182\n",
      "Epoch:   800 \t Custo (Erro):   0.08252 \t W:0.2092 \t b: 1.099\n",
      "Epoch:  1000 \t Custo (Erro):   0.08037 \t W:0.2184 \t b: 1.035\n",
      "Epoch:  1200 \t Custo (Erro):   0.07905 \t W:0.2255 \t b:0.9837\n",
      "Epoch:  1400 \t Custo (Erro):   0.07823 \t W:0.2312 \t b:0.9439\n",
      "Epoch:  1600 \t Custo (Erro):   0.07773 \t W:0.2356 \t b:0.9126\n",
      "Epoch:  1800 \t Custo (Erro):   0.07742 \t W: 0.239 \t b: 0.888\n",
      "Epoch:  2000 \t Custo (Erro):   0.07723 \t W:0.2418 \t b:0.8688\n",
      "\n",
      "Otimização Concluída!\n",
      "Custo Final de Treinamento: 0.077232085  - W Final: 0.2417621  - b Final: 0.8687951 \n",
      "\n"
     ]
    },
    {
     "data": {
      "image/png": "[encoded data removed]",
      "text/plain": [
       "<Figure size 432x288 with 1 Axes>"
      ]
     },
     "metadata": {
      "needs_background": "light"
     },
     "output_type": "display_data"
    },
    {
     "name": "stdout",
     "output_type": "stream",
     "text": [
      "Custo Final em Teste: 0.080629244\n",
      "Diferença Média Quadrada Absoluta: 0.0033971593\n"
     ]
    },
    {
     "data": {
      "image/png": "[encoded data removed]",
      "text/plain": [
       "<Figure size 432x288 with 1 Axes>"
      ]
     },
     "metadata": {
      "needs_background": "light"
     },
     "output_type": "display_data"
    }
   ],
   "source": [
    "#Definindo a inicialização das variáveis\n",
    "\n",
    "init = tf.global_variables_initializer()\n",
    "\n",
    "#Iniciando a sessão\n",
    "with tf.Session() as sess:\n",
    "    #Inicializando as variáveis\n",
    "    sess.run(init)\n",
    "    \n",
    "    #Treinando o modelo\n",
    "    for epoch in range(training_epochs):\n",
    "        \n",
    "        #Otimizando\n",
    "        sess.run(optimizer, feed_dict={x: train_X, y: train_Y})\n",
    "        \n",
    "        #Exibindo épocas\n",
    "        if (epoch+1) % display_step == 0:\n",
    "            c = sess.run(cost, feed_dict={x: train_X, y: train_Y})\n",
    "            print(\"Epoch:{0:6} \\t Custo (Erro):{1:10.4} \\t W:{2:6.4} \\t b:{3:6.4}\".format(epoch+1, c, sess.run(w), sess.run(b)))\n",
    "        \n",
    "    # Imprimindo os parâmetros finais do modelo\n",
    "    print(\"\\nOtimização Concluída!\")\n",
    "    training_cost = sess.run(cost, feed_dict={x: train_X, y: train_Y})\n",
    "    print(\"Custo Final de Treinamento:\", training_cost, \" - W Final:\", sess.run(w), \" - b Final:\", sess.run(b), '\\n')\n",
    "    \n",
    "    #Vizualização do resultado\n",
    "    plt.plot(train_X, train_Y, 'ro', label=\"Dados de Teste\")\n",
    "    plt.plot(train_X, sess.run(w) * train_X + sess.run(b), label=\"Linha de Regressão\")\n",
    "    plt.legend()\n",
    "    plt.show()\n",
    "    \n",
    "    #Testando o modelo\n",
    "    testing_cost = sess.run(tf.reduce_sum(tf.square(linear_model - y)) / (2 * test_X.shape[0]), feed_dict={x:test_X, y:test_y} )\n",
    "    \n",
    "    print(\"Custo Final em Teste:\", testing_cost)\n",
    "    print(\"Diferença Média Quadrada Absoluta:\", abs(training_cost - testing_cost))\n",
    "    \n",
    "    #Visualização dos testes\n",
    "    plt.plot(test_X, test_Y, 'bo', label=\"Dados de teste\")\n",
    "    plt.plot(train_X, sess.run(w) * train_X + sess.run(b), label=\"Linha de Regressão\")\n",
    "    plt.legend()\n",
    "    plt.show()\n",
    "\n",
    "sess.close()"
   ]
  },
  {
   "cell_type": "code",
   "execution_count": null,
   "metadata": {},
   "outputs": [],
   "source": []
  }
 ],
 "metadata": {
  "kernelspec": {
   "display_name": "Python 3",
   "language": "python",
   "name": "python3"
  },
  "language_info": {
   "codemirror_mode": {
    "name": "ipython",
    "version": 3
   },
   "file_extension": ".py",
   "mimetype": "text/x-python",
   "name": "python",
   "nbconvert_exporter": "python",
   "pygments_lexer": "ipython3",
   "version": "3.6.9"
  }
 },
 "nbformat": 4,
 "nbformat_minor": 4
}
